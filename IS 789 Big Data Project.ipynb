{
 "cells": [
  {
   "cell_type": "markdown",
   "id": "d4e2344f",
   "metadata": {},
   "source": [
    "# YouTube Spam Detection"
   ]
  },
  {
   "cell_type": "code",
   "execution_count": 1,
   "id": "22fd0b14",
   "metadata": {},
   "outputs": [],
   "source": [
    "# Importing necessary libraries\n",
    "from pyspark.sql import SparkSession\n",
    "from pyspark.sql.functions import col, lower, regexp_replace, month, to_date\n",
    "from pyspark.sql.types import IntegerType\n",
    "from pyspark.ml.feature import Tokenizer, StopWordsRemover, HashingTF\n",
    "from pyspark.ml import Pipeline\n",
    "from pyspark.ml.classification import NaiveBayes, LogisticRegression, DecisionTreeClassifier, RandomForestClassifier\n",
    "from pyspark.ml.evaluation import MulticlassClassificationEvaluator\n",
    "\n",
    "import pandas as pd\n",
    "import matplotlib.pyplot as plt\n",
    "import seaborn as sns\n",
    "import time"
   ]
  },
  {
   "cell_type": "markdown",
   "id": "f74dc418",
   "metadata": {},
   "source": [
    "## Step 1: Initialize Spark Session"
   ]
  },
  {
   "cell_type": "code",
   "execution_count": 2,
   "id": "c275098b",
   "metadata": {},
   "outputs": [
    {
     "name": "stderr",
     "output_type": "stream",
     "text": [
      "25/05/07 17:20:19 WARN Utils: Your hostname, Preets-MacBook-Air-2.local resolves to a loopback address: 127.0.0.1; using 130.85.247.147 instead (on interface en0)\n",
      "25/05/07 17:20:19 WARN Utils: Set SPARK_LOCAL_IP if you need to bind to another address\n",
      "Setting default log level to \"WARN\".\n",
      "To adjust logging level use sc.setLogLevel(newLevel). For SparkR, use setLogLevel(newLevel).\n",
      "25/05/07 17:20:19 WARN NativeCodeLoader: Unable to load native-hadoop library for your platform... using builtin-java classes where applicable\n"
     ]
    }
   ],
   "source": [
    "spark = SparkSession.builder.appName(\"YouTubeSpamDetection-Master\").getOrCreate()"
   ]
  },
  {
   "cell_type": "markdown",
   "id": "2e574fee",
   "metadata": {},
   "source": [
    "## Step 2: Load Dataset"
   ]
  },
  {
   "cell_type": "code",
   "execution_count": 3,
   "id": "67edf593",
   "metadata": {},
   "outputs": [
    {
     "name": "stdout",
     "output_type": "stream",
     "text": [
      "root\n",
      " |-- COMMENT_ID: string (nullable = true)\n",
      " |-- AUTHOR: string (nullable = true)\n",
      " |-- DATE: timestamp (nullable = true)\n",
      " |-- CONTENT: string (nullable = true)\n",
      " |-- CLASS: string (nullable = true)\n",
      "\n",
      "+--------------------+----------------+-------------------+--------------------+-----+\n",
      "|          COMMENT_ID|          AUTHOR|               DATE|             CONTENT|CLASS|\n",
      "+--------------------+----------------+-------------------+--------------------+-----+\n",
      "|LZQPQhLyRh80UYxNu...|       Julius NM|2013-11-07 06:20:48|Huh, anyway check...|    1|\n",
      "|LZQPQhLyRh_C2cTtd...|     adam riyati|2013-11-07 12:37:15|Hey guys check ou...|    1|\n",
      "|LZQPQhLyRh9MSZYnf...|Evgeny Murashkin|2013-11-08 17:34:21|just for test I h...|    1|\n",
      "|z13jhp0bxqncu512g...| ElNino Melendez|2013-11-09 08:28:43|me shaking my sex...|    1|\n",
      "|z13fwbwp1oujthgqj...|          GsMega|2013-11-10 16:05:38|watch?v=vtaRGgvGt...|    1|\n",
      "|LZQPQhLyRh9-wNRtl...|    Jason Haddad|2013-11-26 02:55:11|Hey, check out my...|    1|\n",
      "|z13lfzdo5vmdi1cm1...|  ferleck ferles|2013-11-27 21:39:24|Subscribe to my c...|    1|\n",
      "|z122wfnzgt30fhubn...|    Bob Kanowski|2013-11-28 12:33:27|i turned it on mu...|    0|\n",
      "|z13ttt1jcraqexk2o...|            Cony|2013-11-28 16:01:47|You should check ...|    1|\n",
      "|z12avveb4xqiirsix...|     BeBe Burkey|2013-11-28 16:30:13|and u should.d ch...|    1|\n",
      "+--------------------+----------------+-------------------+--------------------+-----+\n",
      "only showing top 10 rows\n",
      "\n"
     ]
    }
   ],
   "source": [
    "\n",
    "files = [\"Youtube01-Psy.csv\", \"Youtube02-KatyPerry.csv\", \"Youtube03-LMFAO.csv\", \"Youtube04-Eminem.csv\", \"Youtube05-Shakira.csv\"]\n",
    "\n",
    "df = spark.read.csv(files[0], header=True, inferSchema=True)\n",
    "for file in files[1:]:\n",
    "    df_next = spark.read.csv(file, header=True, inferSchema=True)\n",
    "    df = df.union(df_next)\n",
    "\n",
    "df.printSchema()\n",
    "df.show(10)\n"
   ]
  },
  {
   "cell_type": "markdown",
   "id": "bea42c71",
   "metadata": {},
   "source": [
    "## Step 3: Check CLASS Column for Impurities"
   ]
  },
  {
   "cell_type": "code",
   "execution_count": 4,
   "id": "cc53406c",
   "metadata": {},
   "outputs": [
    {
     "name": "stdout",
     "output_type": "stream",
     "text": [
      "+--------------------+\n",
      "|               CLASS|\n",
      "+--------------------+\n",
      "| There's No Point...|\n",
      "|                   0|\n",
      "| made with Fruity...|\n",
      "|                   1|\n",
      "| \"\"DECIO HAIR\"\". ...|\n",
      "| you guys will be...|\n",
      "| Help Rand Protec...|\n",
      "|                NULL|\n",
      "+--------------------+\n",
      "\n"
     ]
    }
   ],
   "source": [
    "\n",
    "df.select(\"CLASS\").distinct().show()"
   ]
  },
  {
   "cell_type": "markdown",
   "id": "e48af689",
   "metadata": {},
   "source": [
    "## Step 4: Clean CLASS Column"
   ]
  },
  {
   "cell_type": "code",
   "execution_count": 5,
   "id": "ae32d186",
   "metadata": {},
   "outputs": [
    {
     "name": "stdout",
     "output_type": "stream",
     "text": [
      "+-----+\n",
      "|CLASS|\n",
      "+-----+\n",
      "|    1|\n",
      "|    0|\n",
      "+-----+\n",
      "\n"
     ]
    }
   ],
   "source": [
    "\n",
    "df = df.withColumn(\"CLASS\", col(\"CLASS\").cast(IntegerType()))\n",
    "df_clean = df.na.drop(subset=[\"CLASS\"])\n",
    "df_clean.select(\"CLASS\").distinct().show()\n"
   ]
  },
  {
   "cell_type": "markdown",
   "id": "f5ef99ac",
   "metadata": {},
   "source": [
    "## Step 5: EDA - Total Count and Null Values"
   ]
  },
  {
   "cell_type": "code",
   "execution_count": 6,
   "id": "c06114f2",
   "metadata": {},
   "outputs": [
    {
     "name": "stdout",
     "output_type": "stream",
     "text": [
      "Total Records after cleaning: 1955\n",
      "++\n",
      "||\n",
      "++\n",
      "||\n",
      "++\n",
      "\n"
     ]
    }
   ],
   "source": [
    "\n",
    "print(\"Total Records after cleaning:\", df_clean.count())\n",
    "df_clean.select([col(c).isNull().alias(c) for c in df_clean.columns]).groupBy().sum().show()\n"
   ]
  },
  {
   "cell_type": "markdown",
   "id": "4993c345",
   "metadata": {},
   "source": [
    "## Step 6: Spam vs Ham Distribution (Pie Chart)"
   ]
  },
  {
   "cell_type": "code",
   "execution_count": 7,
   "id": "97d872b6",
   "metadata": {},
   "outputs": [
    {
     "data": {
      "image/png": "[encoded data removed]",
      "text/plain": [
       "<Figure size 640x480 with 1 Axes>"
      ]
     },
     "metadata": {},
     "output_type": "display_data"
    },
    {
     "data": {
      "text/plain": [
       "<Figure size 1000x600 with 0 Axes>"
      ]
     },
     "execution_count": 7,
     "metadata": {},
     "output_type": "execute_result"
    },
    {
     "data": {
      "text/plain": [
       "<Figure size 1000x600 with 0 Axes>"
      ]
     },
     "metadata": {},
     "output_type": "display_data"
    }
   ],
   "source": [
    "\n",
    "df_class_dist = df_clean.groupBy(\"CLASS\").count().toPandas()\n",
    "\n",
    "plt.pie(df_class_dist['count'], labels=df_class_dist['CLASS'], autopct='%1.1f%%', startangle=90)\n",
    "plt.title(\"Spam vs Ham Distribution (Pie Chart)\")\n",
    "plt.show()\n",
    "plt.figure(figsize=(10, 6))"
   ]
  },
  {
   "cell_type": "markdown",
   "id": "45dfab7d",
   "metadata": {},
   "source": [
    "## Step 7: Frequent Commenters"
   ]
  },
  {
   "cell_type": "code",
   "execution_count": 8,
   "id": "28869763",
   "metadata": {},
   "outputs": [
    {
     "name": "stdout",
     "output_type": "stream",
     "text": [
      "+----------------+-----+\n",
      "|          AUTHOR|count|\n",
      "+----------------+-----+\n",
      "|           M.E.S|    8|\n",
      "|    Louis Bryant|    7|\n",
      "| Shadrach Grentz|    7|\n",
      "|        5000palo|    7|\n",
      "|        DanteBTV|    6|\n",
      "|  LuckyMusiqLive|    5|\n",
      "|      Derek Moya|    5|\n",
      "|     Hidden Love|    5|\n",
      "|   AllDailyVines|    4|\n",
      "|RapStarz Coleman|    4|\n",
      "+----------------+-----+\n",
      "only showing top 10 rows\n",
      "\n"
     ]
    }
   ],
   "source": [
    "\n",
    "df_clean.groupBy(\"AUTHOR\").count().orderBy(\"count\", ascending=False).show(10)\n"
   ]
  },
  {
   "cell_type": "markdown",
   "id": "70570849",
   "metadata": {},
   "source": [
    "## Step 8: Monthly Comment Trend"
   ]
  },
  {
   "cell_type": "code",
   "execution_count": 9,
   "id": "0f581ef1",
   "metadata": {},
   "outputs": [
    {
     "data": {
      "image/png": "[encoded data removed]",
      "text/plain": [
       "<Figure size 640x480 with 1 Axes>"
      ]
     },
     "metadata": {},
     "output_type": "display_data"
    }
   ],
   "source": [
    "\n",
    "df_with_date = df_clean.withColumn(\"date_only\", to_date(col(\"DATE\")))\n",
    "df_with_month = df_with_date.withColumn(\"month\", month(col(\"date_only\")))\n",
    "monthly_dist = df_with_month.groupBy(\"month\").count().orderBy(\"month\").toPandas()\n",
    "\n",
    "monthly_dist.plot(kind=\"bar\", x=\"month\", y=\"count\", legend=False)\n",
    "plt.title(\"Monthly Comment Distribution\")\n",
    "plt.xlabel(\"Month\")\n",
    "plt.ylabel(\"Comment Count\")\n",
    "plt.show()\n"
   ]
  },
  {
   "cell_type": "markdown",
   "id": "d775df53",
   "metadata": {},
   "source": [
    "## Step 9: Monthly Spam vs Ham Distribution"
   ]
  },
  {
   "cell_type": "code",
   "execution_count": 10,
   "id": "028c7fff",
   "metadata": {},
   "outputs": [
    {
     "data": {
      "image/png": "[encoded data removed]",
      "text/plain": [
       "<Figure size 1000x600 with 1 Axes>"
      ]
     },
     "metadata": {},
     "output_type": "display_data"
    }
   ],
   "source": [
    "\n",
    "df_with_month_class = df_with_date.withColumn(\"month\", month(col(\"date_only\")))\n",
    "monthly_class_dist = df_with_month_class.groupBy(\"month\", \"CLASS\").count().orderBy(\"month\").toPandas()\n",
    "\n",
    "pivot_data = monthly_class_dist.pivot(index='month', columns='CLASS', values='count').fillna(0)\n",
    "pivot_data.columns = ['Ham (0)', 'Spam (1)']\n",
    "\n",
    "pivot_data.plot(kind='bar', stacked=True, figsize=(10,6))\n",
    "plt.title(\"Monthly Spam vs Ham Distribution (Counts)\")\n",
    "plt.xlabel(\"Month\")\n",
    "plt.ylabel(\"Number of Comments\")\n",
    "plt.legend(title=\"Comment Type\")\n",
    "plt.show()\n",
    "\n",
    "# pivot_percent = pivot_data.div(pivot_data.sum(axis=1), axis=0)\n",
    "# pivot_percent.plot(kind='bar', stacked=True, figsize=(10,6), colormap='viridis')\n",
    "# plt.title(\"Monthly Spam vs Ham Distribution (Percentage)\")\n",
    "# plt.xlabel(\"Month\")\n",
    "# plt.ylabel(\"Percentage\")\n",
    "# plt.legend(title=\"Comment Type\")\n",
    "# plt.show()\n"
   ]
  },
  {
   "cell_type": "markdown",
   "id": "a381b767",
   "metadata": {},
   "source": [
    "## Step 10: Text Preprocessing"
   ]
  },
  {
   "cell_type": "code",
   "execution_count": 11,
   "id": "08dc8055",
   "metadata": {},
   "outputs": [
    {
     "name": "stdout",
     "output_type": "stream",
     "text": [
      "+--------------------+-----+\n",
      "|             CONTENT|CLASS|\n",
      "+--------------------+-----+\n",
      "|huh anyway check ...|    1|\n",
      "|hey guys check ou...|    1|\n",
      "|just for test i h...|    1|\n",
      "|me shaking my sex...|    1|\n",
      "|watchvvtarggvgtwq...|    1|\n",
      "+--------------------+-----+\n",
      "only showing top 5 rows\n",
      "\n"
     ]
    }
   ],
   "source": [
    "\n",
    "df_preprocessed = df_clean.select(\"CONTENT\", \"CLASS\")\n",
    "df_preprocessed = df_preprocessed.withColumn(\"CONTENT\", lower(col(\"CONTENT\")))\n",
    "df_preprocessed = df_preprocessed.withColumn(\"CONTENT\", regexp_replace(col(\"CONTENT\"), r\"http\\S+|www\\S+|https\\S+\", \"URL\"))\n",
    "df_preprocessed = df_preprocessed.withColumn(\"CONTENT\", regexp_replace(col(\"CONTENT\"), r\"[^a-zA-Z\\s]\", \"\"))\n",
    "df_preprocessed = df_preprocessed.withColumn(\"CONTENT\", regexp_replace(col(\"CONTENT\"), r\"\\s+\", \" \"))\n",
    "\n",
    "df_preprocessed.show(5)\n"
   ]
  },
  {
   "cell_type": "markdown",
   "id": "45f7adaa",
   "metadata": {},
   "source": [
    "## Step 11: Feature Extraction"
   ]
  },
  {
   "cell_type": "code",
   "execution_count": 12,
   "id": "a69f1488",
   "metadata": {},
   "outputs": [
    {
     "name": "stdout",
     "output_type": "stream",
     "text": [
      "+--------------------+--------------------+--------------------+-----+\n",
      "|             CONTENT|      filtered_words|            features|CLASS|\n",
      "+--------------------+--------------------+--------------------+-----+\n",
      "|huh anyway check ...|[huh, anyway, che...|(1000,[132,429,51...|    1|\n",
      "|hey guys check ou...|[hey, guys, check...|(1000,[216,314,33...|    1|\n",
      "|just for test i h...|[test, say, murde...|(1000,[428,586,86...|    1|\n",
      "|me shaking my sex...|[shaking, sexy, a...|(1000,[37,467,592...|    1|\n",
      "|watchvvtarggvgtwq...|[watchvvtarggvgtw...|(1000,[228,901],[...|    1|\n",
      "+--------------------+--------------------+--------------------+-----+\n",
      "only showing top 5 rows\n",
      "\n"
     ]
    }
   ],
   "source": [
    "\n",
    "tokenizer = Tokenizer(inputCol=\"CONTENT\", outputCol=\"words\")\n",
    "stopwords_remover = StopWordsRemover(inputCol=\"words\", outputCol=\"filtered_words\")\n",
    "hashing_tf = HashingTF(inputCol=\"filtered_words\", outputCol=\"features\", numFeatures=1000)\n",
    "\n",
    "pipeline = Pipeline(stages=[tokenizer, stopwords_remover, hashing_tf])\n",
    "pipeline_model = pipeline.fit(df_preprocessed)\n",
    "df_features = pipeline_model.transform(df_preprocessed)\n",
    "\n",
    "df_features.select(\"CONTENT\", \"filtered_words\", \"features\", \"CLASS\").show(5)\n"
   ]
  },
  {
   "cell_type": "markdown",
   "id": "d6629e22",
   "metadata": {},
   "source": [
    "## Step 12: Train Test Split"
   ]
  },
  {
   "cell_type": "code",
   "execution_count": 13,
   "id": "aadde39d",
   "metadata": {},
   "outputs": [
    {
     "name": "stdout",
     "output_type": "stream",
     "text": [
      "+-----+-----+\n",
      "|CLASS|count|\n",
      "+-----+-----+\n",
      "|    1|  799|\n",
      "|    0|  773|\n",
      "+-----+-----+\n",
      "\n",
      "+-----+-----+\n",
      "|CLASS|count|\n",
      "+-----+-----+\n",
      "|    1|  136|\n",
      "|    0|  162|\n",
      "+-----+-----+\n",
      "\n"
     ]
    }
   ],
   "source": [
    "\n",
    "total_count = df_features.count()\n",
    "class_counts = df_features.groupBy(\"CLASS\").count().collect()\n",
    "\n",
    "fractions = {}\n",
    "for row in class_counts:\n",
    "    fractions[row[\"CLASS\"]] = 0.8\n",
    "\n",
    "train_data = df_features.sampleBy(\"CLASS\", fractions=fractions, seed=42)\n",
    "test_data = df_features.subtract(train_data)\n",
    "\n",
    "train_data.groupBy(\"CLASS\").count().show()\n",
    "test_data.groupBy(\"CLASS\").count().show()"
   ]
  },
  {
   "cell_type": "markdown",
   "id": "99460b65",
   "metadata": {},
   "source": [
    "## Step 13: Train and Evaluate Models - Naive Bayes"
   ]
  },
  {
   "cell_type": "code",
   "execution_count": 14,
   "id": "64ab8e26",
   "metadata": {},
   "outputs": [
    {
     "name": "stderr",
     "output_type": "stream",
     "text": [
      "25/05/07 17:20:28 WARN InstanceBuilder: Failed to load implementation from:dev.ludovic.netlib.blas.JNIBLAS\n",
      "25/05/07 17:20:28 WARN InstanceBuilder: Failed to load implementation from:dev.ludovic.netlib.blas.VectorBLAS\n"
     ]
    },
    {
     "name": "stdout",
     "output_type": "stream",
     "text": [
      "Naive Bayes Metrics:\n",
      "Accuracy: 0.8859060402684564\n",
      "Precision: 0.8861103005544209\n",
      "Recall: 0.8859060402684564\n",
      "F1 Score: 0.8859681125138561\n"
     ]
    }
   ],
   "source": [
    "# Train the model\n",
    "nb = NaiveBayes(featuresCol=\"features\", labelCol=\"CLASS\")\n",
    "nb_model = nb.fit(train_data)\n",
    "nb_predictions = nb_model.transform(test_data)\n",
    "\n",
    "# Evaluate metrics\n",
    "evaluator = MulticlassClassificationEvaluator(labelCol=\"CLASS\", predictionCol=\"prediction\")\n",
    "\n",
    "nb_accuracy = evaluator.evaluate(nb_predictions, {evaluator.metricName: \"accuracy\"})\n",
    "nb_precision = evaluator.evaluate(nb_predictions, {evaluator.metricName: \"weightedPrecision\"})\n",
    "nb_recall = evaluator.evaluate(nb_predictions, {evaluator.metricName: \"weightedRecall\"})\n",
    "nb_f1 = evaluator.evaluate(nb_predictions, {evaluator.metricName: \"f1\"})\n",
    "\n",
    "print(\"Naive Bayes Metrics:\")\n",
    "print(f\"Accuracy: {nb_accuracy}\")\n",
    "print(f\"Precision: {nb_precision}\")\n",
    "print(f\"Recall: {nb_recall}\")\n",
    "print(f\"F1 Score: {nb_f1}\")\n",
    "\n",
    "# Visualization: Mini heatmap for Naive Bayes metrics\n",
    "\n",
    "# nb_metrics = pd.DataFrame({\n",
    "#     \"Metric\": [\"Accuracy\", \"Precision\", \"Recall\", \"F1 Score\"],\n",
    "#     \"Value\": [nb_accuracy, nb_precision, nb_recall, nb_f1]\n",
    "# }).set_index(\"Metric\")\n",
    "\n",
    "# sns.heatmap(nb_metrics, annot=True, cmap=\"Blues\", vmin=0, vmax=1)\n",
    "# plt.title(\"Naive Bayes - Metrics Heatmap\")\n",
    "# plt.show()\n"
   ]
  },
  {
   "cell_type": "markdown",
   "id": "183e6aba",
   "metadata": {},
   "source": [
    "### Logistic Regression"
   ]
  },
  {
   "cell_type": "code",
   "execution_count": 15,
   "id": "dc2880b6",
   "metadata": {},
   "outputs": [
    {
     "name": "stdout",
     "output_type": "stream",
     "text": [
      "Logistic Regression Metrics:\n",
      "Accuracy: 0.802013422818792\n",
      "Precision: 0.8017703002724508\n",
      "Recall: 0.802013422818792\n",
      "F1 Score: 0.8016640731897597\n"
     ]
    }
   ],
   "source": [
    "#Train Model\n",
    "lr = LogisticRegression(featuresCol=\"features\", labelCol=\"CLASS\")\n",
    "lr_model = lr.fit(train_data)\n",
    "lr_predictions = lr_model.transform(test_data)\n",
    "\n",
    "# Evaluate metrics\n",
    "evaluator = MulticlassClassificationEvaluator(labelCol=\"CLASS\", predictionCol=\"prediction\")\n",
    "\n",
    "lr_accuracy = evaluator.evaluate(lr_predictions, {evaluator.metricName: \"accuracy\"})\n",
    "lr_precision = evaluator.evaluate(lr_predictions, {evaluator.metricName: \"weightedPrecision\"})\n",
    "lr_recall = evaluator.evaluate(lr_predictions, {evaluator.metricName: \"weightedRecall\"})\n",
    "lr_f1 = evaluator.evaluate(lr_predictions, {evaluator.metricName: \"f1\"})\n",
    "\n",
    "print(\"Logistic Regression Metrics:\")\n",
    "print(f\"Accuracy: {lr_accuracy}\")\n",
    "print(f\"Precision: {lr_precision}\")\n",
    "print(f\"Recall: {lr_recall}\")\n",
    "print(f\"F1 Score: {lr_f1}\")\n"
   ]
  },
  {
   "cell_type": "markdown",
   "id": "653c35ae",
   "metadata": {},
   "source": [
    "### Decision Tree"
   ]
  },
  {
   "cell_type": "code",
   "execution_count": 16,
   "id": "1462bbf6",
   "metadata": {},
   "outputs": [
    {
     "name": "stderr",
     "output_type": "stream",
     "text": [
      "25/05/07 17:20:35 WARN GarbageCollectionMetrics: To enable non-built-in garbage collector(s) List(G1 Concurrent GC), users should configure it(them) to spark.eventLog.gcMetrics.youngGenerationGarbageCollectors or spark.eventLog.gcMetrics.oldGenerationGarbageCollectors\n"
     ]
    },
    {
     "name": "stdout",
     "output_type": "stream",
     "text": [
      "Decision Tree Metrics:\n",
      "Accuracy: 0.8389261744966443\n",
      "Precision: 0.8528067103449377\n",
      "Recall: 0.8389261744966443\n",
      "F1 Score: 0.8354271925194179\n"
     ]
    }
   ],
   "source": [
    "#Train Model\n",
    "dt = DecisionTreeClassifier(featuresCol=\"features\", labelCol=\"CLASS\")\n",
    "dt_model = dt.fit(train_data)\n",
    "dt_predictions = dt_model.transform(test_data)\n",
    "\n",
    "# Evaluate metrics\n",
    "evaluator = MulticlassClassificationEvaluator(labelCol=\"CLASS\", predictionCol=\"prediction\")\n",
    "\n",
    "dt_accuracy = evaluator.evaluate(dt_predictions, {evaluator.metricName: \"accuracy\"})\n",
    "dt_precision = evaluator.evaluate(dt_predictions, {evaluator.metricName: \"weightedPrecision\"})\n",
    "dt_recall = evaluator.evaluate(dt_predictions, {evaluator.metricName: \"weightedRecall\"})\n",
    "dt_f1 = evaluator.evaluate(dt_predictions, {evaluator.metricName: \"f1\"})\n",
    "\n",
    "print(\"Decision Tree Metrics:\")\n",
    "print(f\"Accuracy: {dt_accuracy}\")\n",
    "print(f\"Precision: {dt_precision}\")\n",
    "print(f\"Recall: {dt_recall}\")\n",
    "print(f\"F1 Score: {dt_f1}\")\n"
   ]
  },
  {
   "cell_type": "markdown",
   "id": "0547d266",
   "metadata": {},
   "source": [
    "### Random Forest"
   ]
  },
  {
   "cell_type": "code",
   "execution_count": 17,
   "id": "8f8f74a7",
   "metadata": {},
   "outputs": [
    {
     "name": "stdout",
     "output_type": "stream",
     "text": [
      "Random Forest Metrics:\n",
      "Accuracy: 0.8657718120805369\n",
      "Precision: 0.8688485031294775\n",
      "Recall: 0.8657718120805369\n",
      "F1 Score: 0.8647354915120411\n"
     ]
    }
   ],
   "source": [
    "\n",
    "#Train Model\n",
    "rf = RandomForestClassifier(featuresCol=\"features\", labelCol=\"CLASS\", numTrees=20)\n",
    "rf_model = rf.fit(train_data)\n",
    "rf_predictions = rf_model.transform(test_data)\n",
    "\n",
    "# Evaluate metrics\n",
    "evaluator = MulticlassClassificationEvaluator(labelCol=\"CLASS\", predictionCol=\"prediction\")\n",
    "\n",
    "rf_accuracy = evaluator.evaluate(rf_predictions, {evaluator.metricName: \"accuracy\"})\n",
    "rf_precision = evaluator.evaluate(rf_predictions, {evaluator.metricName: \"weightedPrecision\"})\n",
    "rf_recall = evaluator.evaluate(rf_predictions, {evaluator.metricName: \"weightedRecall\"})\n",
    "rf_f1 = evaluator.evaluate(rf_predictions, {evaluator.metricName: \"f1\"})\n",
    "\n",
    "print(\"Random Forest Metrics:\")\n",
    "print(f\"Accuracy: {rf_accuracy}\")\n",
    "print(f\"Precision: {rf_precision}\")\n",
    "print(f\"Recall: {rf_recall}\")\n",
    "print(f\"F1 Score: {rf_f1}\")\n"
   ]
  },
  {
   "cell_type": "markdown",
   "id": "8ae17dd3",
   "metadata": {},
   "source": [
    "## Step 14: Compare Model Accuracies"
   ]
  },
  {
   "cell_type": "code",
   "execution_count": 18,
   "id": "5d91b8c0",
   "metadata": {},
   "outputs": [
    {
     "data": {
      "image/png": "[encoded data removed]",
      "text/plain": [
       "<Figure size 640x480 with 2 Axes>"
      ]
     },
     "metadata": {},
     "output_type": "display_data"
    }
   ],
   "source": [
    "\n",
    "metrics_data = {\n",
    "    'Model': ['Naive Bayes', 'Logistic Regression', 'Decision Tree', 'Random Forest'],\n",
    "    'Accuracy': [nb_accuracy, lr_accuracy, dt_accuracy, rf_accuracy]\n",
    "}\n",
    "\n",
    "metrics_df = pd.DataFrame(metrics_data).set_index(\"Model\")\n",
    "\n",
    "sns.heatmap(metrics_df, annot=True, cmap=\"YlGnBu\")\n",
    "plt.title(\"Model Accuracy Comparison (Heatmap)\")\n",
    "plt.xlabel(\"Model\")\n",
    "plt.ylabel(\"Accuracy\")\n",
    "#plt.xticks(rotation=45)\n",
    "#plt.yticks(rotation=0)\n",
    "plt.tight_layout()\n",
    "plt.show()\n"
   ]
  },
  {
   "cell_type": "markdown",
   "id": "3f214bbb",
   "metadata": {},
   "source": [
    "## Step 15: Scalability Test - Executor (CPU Core) Scaling"
   ]
  },
  {
   "cell_type": "code",
   "execution_count": 19,
   "id": "b798f688",
   "metadata": {},
   "outputs": [
    {
     "name": "stdout",
     "output_type": "stream",
     "text": [
      "\n",
      "Running with Spark Master: local[1]\n"
     ]
    },
    {
     "name": "stderr",
     "output_type": "stream",
     "text": [
      "25/05/07 17:20:37 WARN SparkSession: Using an existing Spark session; only runtime SQL configurations will take effect.\n"
     ]
    },
    {
     "name": "stdout",
     "output_type": "stream",
     "text": [
      "Total Time Taken with local[1]: 0.74 seconds\n",
      "\n",
      "\n",
      "Running with Spark Master: local[2]\n",
      "Total Time Taken with local[2]: 0.65 seconds\n",
      "\n",
      "\n",
      "Running with Spark Master: local[4]\n",
      "Total Time Taken with local[4]: 0.56 seconds\n",
      "\n"
     ]
    }
   ],
   "source": [
    "results = {}\n",
    "\n",
    "for cores in [1, 2, 4]:\n",
    "    master = f\"local[{cores}]\"\n",
    "    print(f\"\\nRunning with Spark Master: {master}\")\n",
    "\n",
    "    spark = SparkSession.builder.master(master).appName(\"ExecutorScalingTest\").getOrCreate()\n",
    "    \n",
    "    start = time.time()\n",
    "\n",
    "    # Load Data\n",
    "    files = [\"Youtube01-Psy.csv\", \"Youtube02-KatyPerry.csv\", \"Youtube03-LMFAO.csv\", \"Youtube04-Eminem.csv\", \"Youtube05-Shakira.csv\"]\n",
    "    df = spark.read.csv(files[0], header=True, inferSchema=True)\n",
    "    for file in files[1:]:\n",
    "        df = df.union(spark.read.csv(file, header=True, inferSchema=True))\n",
    "\n",
    "    # Clean CLASS column\n",
    "    df = df.withColumn(\"CLASS\", col(\"CLASS\").cast(IntegerType()))\n",
    "    df = df.na.drop(subset=[\"CLASS\"])\n",
    "\n",
    "    # Preprocessing\n",
    "    df = df.withColumn(\"CONTENT\", lower(col(\"CONTENT\")))\n",
    "    df = df.withColumn(\"CONTENT\", regexp_replace(col(\"CONTENT\"), r\"http\\\\S+|www\\\\S+|https\\\\S+\", \"URL\"))\n",
    "    df = df.withColumn(\"CONTENT\", regexp_replace(col(\"CONTENT\"), r\"[^a-zA-Z\\\\s]\", \"\"))\n",
    "    df = df.withColumn(\"CONTENT\", regexp_replace(col(\"CONTENT\"), r\"\\\\s+\", \" \"))\n",
    "\n",
    "    tokenizer = Tokenizer(inputCol=\"CONTENT\", outputCol=\"words\")\n",
    "    remover = StopWordsRemover(inputCol=\"words\", outputCol=\"filtered_words\")\n",
    "    hashingTF = HashingTF(inputCol=\"filtered_words\", outputCol=\"features\", numFeatures=1000)\n",
    "\n",
    "    pipeline = Pipeline(stages=[tokenizer, remover, hashingTF])\n",
    "    model = pipeline.fit(df)\n",
    "    df_features = model.transform(df)\n",
    "\n",
    "    train_data, test_data = df_features.randomSplit([0.8, 0.2], seed=42)\n",
    "\n",
    "    nb = NaiveBayes(featuresCol=\"features\", labelCol=\"CLASS\")\n",
    "    nb_model = nb.fit(train_data)\n",
    "    predictions = nb_model.transform(test_data)\n",
    "    \n",
    "    end = time.time()\n",
    "    elapsed = end - start\n",
    "    print(f\"Total Time Taken with {master}: {elapsed:.2f} seconds\\n\")\n",
    "\n",
    "    spark.stop()\n",
    "    results[master] = elapsed"
   ]
  },
  {
   "cell_type": "code",
   "execution_count": 20,
   "id": "2ad6eee5",
   "metadata": {},
   "outputs": [
    {
     "name": "stdout",
     "output_type": "stream",
     "text": [
      "  Spark Master  Execution Time (s)\n",
      "0     local[1]            0.742358\n",
      "1     local[2]            0.645178\n",
      "2     local[4]            0.555977\n"
     ]
    },
    {
     "data": {
      "image/png": "[encoded data removed]",
      "text/plain": [
       "<Figure size 640x480 with 1 Axes>"
      ]
     },
     "metadata": {},
     "output_type": "display_data"
    }
   ],
   "source": [
    "# Visualization of Results\n",
    "df_results = pd.DataFrame(list(results.items()), columns=[\"Spark Master\", \"Execution Time (s)\"])\n",
    "print(df_results)\n",
    "\n",
    "# Plotting\n",
    "df_results.plot(x=\"Spark Master\", y=\"Execution Time (s)\", kind=\"bar\", legend=False, color=\"skyblue\")\n",
    "plt.title(\"Executor (Cores) Scaling - Execution Time\")\n",
    "plt.ylabel(\"Execution Time (seconds)\")\n",
    "plt.xlabel(\"Spark Master (Cores)\")\n",
    "plt.show()"
   ]
  },
  {
   "cell_type": "code",
   "execution_count": null,
   "id": "8839f9ce",
   "metadata": {},
   "outputs": [],
   "source": []
  }
 ],
 "metadata": {
  "kernelspec": {
   "display_name": "base",
   "language": "python",
   "name": "python3"
  },
  "language_info": {
   "codemirror_mode": {
    "name": "ipython",
    "version": 3
   },
   "file_extension": ".py",
   "mimetype": "text/x-python",
   "name": "python",
   "nbconvert_exporter": "python",
   "pygments_lexer": "ipython3",
   "version": "3.11.7"
  }
 },
 "nbformat": 4,
 "nbformat_minor": 5
}
